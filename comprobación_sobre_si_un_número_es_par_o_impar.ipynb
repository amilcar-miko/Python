{
  "nbformat": 4,
  "nbformat_minor": 0,
  "metadata": {
    "colab": {
      "name": "comprobación sobre si un número es par o impar.ipynb",
      "provenance": [],
      "authorship_tag": "ABX9TyOUMltIfjZqxbNXIllErRaQ",
      "include_colab_link": true
    },
    "kernelspec": {
      "name": "python3",
      "display_name": "Python 3"
    },
    "language_info": {
      "name": "python"
    }
  },
  "cells": [
    {
      "cell_type": "markdown",
      "metadata": {
        "id": "view-in-github",
        "colab_type": "text"
      },
      "source": [
        "<a href=\"https://colab.research.google.com/github/amilcar-miko/Python/blob/main/comprobaci%C3%B3n_sobre_si_un_n%C3%BAmero_es_par_o_impar.ipynb\" target=\"_parent\"><img src=\"https://colab.research.google.com/assets/colab-badge.svg\" alt=\"Open In Colab\"/></a>"
      ]
    },
    {
      "cell_type": "code",
      "execution_count": 4,
      "metadata": {
        "colab": {
          "base_uri": "https://localhost:8080/"
        },
        "id": "0eEd8CWfl9DY",
        "outputId": "9d67618a-dfbf-432f-f4bf-76091d6af847"
      },
      "outputs": [
        {
          "output_type": "stream",
          "name": "stdout",
          "text": [
            "El numero es impar\n"
          ]
        }
      ],
      "source": [
        "n = 9\n",
        "message = \"El numero es par\" if n % 2 == 0 else \"El numero es impar\"\n",
        "print(message)"
      ]
    },
    {
      "cell_type": "code",
      "source": [
        "n = 8\n",
        "message = \"El numero es par\" if n % 2 == 0 else \"El numero es impar\"\n",
        "print(message)"
      ],
      "metadata": {
        "colab": {
          "base_uri": "https://localhost:8080/"
        },
        "id": "NgeNGiDHmk6t",
        "outputId": "233cadcb-f0db-4ff2-f174-a03cdda33763"
      },
      "execution_count": 3,
      "outputs": [
        {
          "output_type": "stream",
          "name": "stdout",
          "text": [
            "El numero es par\n"
          ]
        }
      ]
    },
    {
      "cell_type": "code",
      "source": [
        ""
      ],
      "metadata": {
        "id": "5cuoVVd6m0SN"
      },
      "execution_count": null,
      "outputs": []
    }
  ]
}