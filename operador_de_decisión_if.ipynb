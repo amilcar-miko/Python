{
  "nbformat": 4,
  "nbformat_minor": 0,
  "metadata": {
    "colab": {
      "name": "operador de decisión if.ipynb",
      "provenance": [],
      "authorship_tag": "ABX9TyP08O5euTH3MXRYYhmM+opF",
      "include_colab_link": true
    },
    "kernelspec": {
      "name": "python3",
      "display_name": "Python 3"
    },
    "language_info": {
      "name": "python"
    }
  },
  "cells": [
    {
      "cell_type": "markdown",
      "metadata": {
        "id": "view-in-github",
        "colab_type": "text"
      },
      "source": [
        "<a href=\"https://colab.research.google.com/github/amilcar-miko/Python/blob/main/operador_de_decisi%C3%B3n_if.ipynb\" target=\"_parent\"><img src=\"https://colab.research.google.com/assets/colab-badge.svg\" alt=\"Open In Colab\"/></a>"
      ]
    },
    {
      "cell_type": "code",
      "execution_count": 3,
      "metadata": {
        "colab": {
          "base_uri": "https://localhost:8080/"
        },
        "id": "_UxKMDWdOv8r",
        "outputId": "3dd4656e-5218-479f-ef37-83e9e970c07a"
      },
      "outputs": [
        {
          "output_type": "stream",
          "name": "stdout",
          "text": [
            "Puedes conseguir trabajo de programador\n"
          ]
        }
      ],
      "source": [
        "age = 30\n",
        "if (age >= 18 and age <= 65):\n",
        "    print(\"Puedes conseguir trabajo de programador\")"
      ]
    },
    {
      "cell_type": "code",
      "source": [
        "age = 17\n",
        "if (age >= 18 and age <= 65):\n",
        "    print(\"Puedes conseguir trabajo de programador\")\n",
        "    #se ejecuta cuando pueda trabajar"
      ],
      "metadata": {
        "id": "IEIT6AK5SYvC"
      },
      "execution_count": 8,
      "outputs": []
    },
    {
      "cell_type": "code",
      "source": [
        "age = 70\n",
        "if (age >= 18 and age <= 65):\n",
        "    print(\"Puedes conseguir trabajo de programador\")\n",
        "    #resultado cuando pueda trabajar"
      ],
      "metadata": {
        "id": "zf5j2EIQSbvA"
      },
      "execution_count": 7,
      "outputs": []
    }
  ]
}