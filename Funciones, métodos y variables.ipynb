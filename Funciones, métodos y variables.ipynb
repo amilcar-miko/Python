{
  "nbformat": 4,
  "nbformat_minor": 0,
  "metadata": {
    "colab": {
      "name": "Untitled18.ipynb",
      "provenance": [],
      "authorship_tag": "ABX9TyOvovKWufx+8vFXv5OMU9Ve",
      "include_colab_link": true
    },
    "kernelspec": {
      "name": "python3",
      "display_name": "Python 3"
    },
    "language_info": {
      "name": "python"
    }
  },
  "cells": [
    {
      "cell_type": "markdown",
      "metadata": {
        "id": "view-in-github",
        "colab_type": "text"
      },
      "source": [
        "<a href=\"https://colab.research.google.com/github/amilcar-miko/Python/blob/main/Funciones%2C%20m%C3%A9todos%20y%20variables.ipynb\" target=\"_parent\"><img src=\"https://colab.research.google.com/assets/colab-badge.svg\" alt=\"Open In Colab\"/></a>"
      ]
    },
    {
      "cell_type": "code",
      "execution_count": 1,
      "metadata": {
        "colab": {
          "base_uri": "https://localhost:8080/"
        },
        "id": "rHl0RDO0NSRD",
        "outputId": "9dab0fde-0385-4a89-a685-7dd7acf118b8"
      },
      "outputs": [
        {
          "output_type": "stream",
          "name": "stdout",
          "text": [
            "Había una vez, un barquito chiquitito Había una vez, un barquito chiquitito que no podía, que no podía, que no podía navegar.\n"
          ]
        }
      ],
      "source": [
        "s1 = \"Había una vez, \"\n",
        "s2 = \"un barquito chiquitito \"\n",
        "s3 = \"que no podía, \"\n",
        "s4 = \"que no podía navegar.\"\n",
        "\n",
        "print((s1 + s2 ) * 2 + s3 * 2 + s4)\n"
      ]
    },
    {
      "cell_type": "code",
      "source": [
        "print(\"Érase un hombre a una nariz pegado, \\nÉrase una nariz superlativa, \\nÉrase una alquitara medio viva, \\nÉrase un peje espada mal barbado;\")"
      ],
      "metadata": {
        "colab": {
          "base_uri": "https://localhost:8080/"
        },
        "id": "_w6uAOJbNwp7",
        "outputId": "85f51f2d-ccd5-4ac6-f0b8-041a255afaca"
      },
      "execution_count": 2,
      "outputs": [
        {
          "output_type": "stream",
          "name": "stdout",
          "text": [
            "Érase un hombre a una nariz pegado, \n",
            "Érase una nariz superlativa, \n",
            "Érase una alquitara medio viva, \n",
            "Érase un peje espada mal barbado;\n"
          ]
        }
      ]
    },
    {
      "cell_type": "code",
      "source": [
        "s = (\"me encantan las matemáticas\")\n",
        "print(s.upper())"
      ],
      "metadata": {
        "colab": {
          "base_uri": "https://localhost:8080/"
        },
        "id": "18oba2gsOPYT",
        "outputId": "cd98ceed-42c2-4bc0-8efb-b7fe9a07bee0"
      },
      "execution_count": 3,
      "outputs": [
        {
          "output_type": "stream",
          "name": "stdout",
          "text": [
            "ME ENCANTAN LAS MATEMÁTICAS\n"
          ]
        }
      ]
    },
    {
      "cell_type": "code",
      "source": [
        "s = \"Mi pasión por el chocolate es superior a mis fuerzas\"\n",
        "print(len(s))"
      ],
      "metadata": {
        "colab": {
          "base_uri": "https://localhost:8080/"
        },
        "id": "3u3E7IFuOdwS",
        "outputId": "0b0fc7fe-30e8-4d2b-dae4-f9764d2b295c"
      },
      "execution_count": 4,
      "outputs": [
        {
          "output_type": "stream",
          "name": "stdout",
          "text": [
            "52\n"
          ]
        }
      ]
    },
    {
      "cell_type": "code",
      "source": [
        "s = \"Mi pasión por el chocolate es superior a mis fuerzas\"\n",
        "inicio = s.find(\"chocolate\")\n",
        "fin = inicio + len(\"chocolate\")\n",
        "s_sub= s[inicio:(fin + 1)]\n",
        "print(s_sub)"
      ],
      "metadata": {
        "id": "iwfhD5wuOsF6"
      },
      "execution_count": null,
      "outputs": []
    },
    {
      "cell_type": "code",
      "source": [
        "print(\"introduce tu nombre donde lo indique el texto\")\n",
        "nombre = input(\"nombre: \")\n",
        "print(\"introduce tu apellido donde lo indique el texto\")\n",
        "apellido = input(\"apellido: \")\n",
        "print(\"introduce tu edad donde lo indique el texto\")\n",
        "edad = int(input(\"edad:\" ))\n",
        "print(\"introduce la ciudad donde vives en donde lo indique el texto\")\n",
        "ciudad = input(\"ciudad donde vives: \")\n",
        "print(\"yo me llamo {} {}, tengo {} años y vivo en la ciudad de {}\".format(nombre, apellido, edad, ciudad))"
      ],
      "metadata": {
        "colab": {
          "base_uri": "https://localhost:8080/"
        },
        "id": "hy6GK26FPFdz",
        "outputId": "af41f0cf-b84e-4198-d7fc-fe46974f17a1"
      },
      "execution_count": 7,
      "outputs": [
        {
          "output_type": "stream",
          "name": "stdout",
          "text": [
            "introduce tu nombre donde lo indique el texto\n",
            "nombre: amilcar\n",
            "introduce tu apellido donde lo indique el texto\n",
            "apellido: ciancallini\n",
            "introduce tu edad donde lo indique el texto\n",
            "edad:30\n",
            "introduce la ciudad donde vives en donde lo indique el texto\n",
            "ciudad donde vives: buenos aires\n",
            "yo me llamo amilcar ciancallini, tengo 30 años y vivo en la ciudad de buenos aires\n"
          ]
        }
      ]
    }
  ]
}