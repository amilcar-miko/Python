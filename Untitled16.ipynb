{
  "nbformat": 4,
  "nbformat_minor": 0,
  "metadata": {
    "colab": {
      "name": "Untitled16.ipynb",
      "provenance": [],
      "authorship_tag": "ABX9TyMMNr8a1BXqO5g4j1IqILcy",
      "include_colab_link": true
    },
    "kernelspec": {
      "name": "python3",
      "display_name": "Python 3"
    },
    "language_info": {
      "name": "python"
    }
  },
  "cells": [
    {
      "cell_type": "markdown",
      "metadata": {
        "id": "view-in-github",
        "colab_type": "text"
      },
      "source": [
        "<a href=\"https://colab.research.google.com/github/amilcar-miko/Python/blob/main/Untitled16.ipynb\" target=\"_parent\"><img src=\"https://colab.research.google.com/assets/colab-badge.svg\" alt=\"Open In Colab\"/></a>"
      ]
    },
    {
      "cell_type": "code",
      "execution_count": 6,
      "metadata": {
        "colab": {
          "base_uri": "https://localhost:8080/"
        },
        "id": "I9No6oaGOTE2",
        "outputId": "b1fda13c-6d3e-4401-b532-0e3fe5ada375"
      },
      "outputs": [
        {
          "output_type": "stream",
          "name": "stdout",
          "text": [
            "introduce tu año de nacimiento 1991\n",
            "introduce el año actual 2021\n",
            "en el año 2021 tienes 30 años\n"
          ]
        }
      ],
      "source": [
        "year = int(input(\"introduce tu año de nacimiento \"))\n",
        "this_year = int(input(\"introduce el año actual \"))\n",
        "age = this_year - year\n",
        "print(\"en el año {} tienes {} años\".format(this_year, age))"
      ]
    }
  ]
}