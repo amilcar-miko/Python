{
  "nbformat": 4,
  "nbformat_minor": 0,
  "metadata": {
    "colab": {
      "name": "comprobando si un punto (x, y) pertenece al cuadrado unidad.ipynb",
      "provenance": [],
      "authorship_tag": "ABX9TyMtTg0yAPWGvjat0i3mV1Gy",
      "include_colab_link": true
    },
    "kernelspec": {
      "name": "python3",
      "display_name": "Python 3"
    },
    "language_info": {
      "name": "python"
    }
  },
  "cells": [
    {
      "cell_type": "markdown",
      "metadata": {
        "id": "view-in-github",
        "colab_type": "text"
      },
      "source": [
        "<a href=\"https://colab.research.google.com/github/amilcar-miko/Python/blob/main/comprobando_si_un_punto_(x%2C_y)_pertenece_al_cuadrado_unidad.ipynb\" target=\"_parent\"><img src=\"https://colab.research.google.com/assets/colab-badge.svg\" alt=\"Open In Colab\"/></a>"
      ]
    },
    {
      "cell_type": "code",
      "execution_count": 7,
      "metadata": {
        "colab": {
          "base_uri": "https://localhost:8080/"
        },
        "id": "hfS8Np02x2Z8",
        "outputId": "27dbf77c-7634-42b5-86e2-b54ce1cf8179"
      },
      "outputs": [
        {
          "output_type": "stream",
          "name": "stdout",
          "text": [
            "x = 0\n",
            "y = 0\n",
            "el punto (0.0, 0.0) se encuentra en el cuadrado unidad\n"
          ]
        }
      ],
      "source": [
        "#comprobación de pertenencia sobre un número, en el eje de ordenadas del cuadrante +, +\n",
        "x = float(input(\"x = \"))\n",
        "y = float(input(\"y = \"))\n",
        "if x >= 0 and x <= 1 and y >= 0 and y <= 1:\n",
        "    print(\"el punto ({}, {}) se encuentra en el cuadrado unidad\".format(x, y))\n",
        "else:\n",
        "    print(\"el punto ({}, {}) no pertenece al cuadrado unidad\".format(x, y))"
      ]
    },
    {
      "cell_type": "code",
      "source": [
        "#comprobación de pertenencia sobre un número, en el eje de ordenadas del cuadrante +, +\n",
        "x = float(input(\"x = \"))\n",
        "y = float(input(\"y = \"))\n",
        "if x >= 0 and x <= 1 and y >= 0 and y <= 1:\n",
        "    print(\"el punto ({}, {}) se encuentra en el cuadrado unidad\".format(x, y))\n",
        "else:\n",
        "    print(\"el punto ({}, {}) no pertenece al cuadrado unidad\".format(x, y))"
      ],
      "metadata": {
        "colab": {
          "base_uri": "https://localhost:8080/"
        },
        "id": "n_gc3-wK09BD",
        "outputId": "6bf9cae1-d4ae-4231-f001-bebe291e1c13"
      },
      "execution_count": 9,
      "outputs": [
        {
          "output_type": "stream",
          "name": "stdout",
          "text": [
            "x = -1\n",
            "y = -1\n",
            "el punto (-1.0, -1.0) no pertenece al cuadrado unidad\n"
          ]
        }
      ]
    }
  ]
}