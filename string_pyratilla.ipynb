{
  "nbformat": 4,
  "nbformat_minor": 0,
  "metadata": {
    "colab": {
      "name": "string pyratilla.ipynb",
      "provenance": [],
      "authorship_tag": "ABX9TyPdZgWSoK6yn2s7JsNjYFJw",
      "include_colab_link": true
    },
    "kernelspec": {
      "name": "python3",
      "display_name": "Python 3"
    },
    "language_info": {
      "name": "python"
    }
  },
  "cells": [
    {
      "cell_type": "markdown",
      "metadata": {
        "id": "view-in-github",
        "colab_type": "text"
      },
      "source": [
        "<a href=\"https://colab.research.google.com/github/amilcar-miko/Python/blob/main/string_pyratilla.ipynb\" target=\"_parent\"><img src=\"https://colab.research.google.com/assets/colab-badge.svg\" alt=\"Open In Colab\"/></a>"
      ]
    },
    {
      "cell_type": "code",
      "source": [
        "title = \"se busca tripulante.\"\n",
        "title2 = title.upper()\n",
        "\n",
        "message1 = \"se busca puesto en la tripulación del capitán pyratilla para llevar a cabo labores de marinero.\"\n",
        "message1 = message1.capitalize()\n",
        "message1 = message1.replace(\"pyratilla\" , \"Pyratilla\")\n",
        "\n",
        "message2 =\"comida y bebida garantizada a lo largo de toda la aventura.\"\n",
        "message2 = message2.capitalize()\n",
        "message2 = message2.replace(\"pyratilla\" , \"Pyratilla\")\n",
        "\n",
        "message3 = message1 + message2\n",
        "\n",
        "contact = \"para mas informacion, ir al puerto y buscar al capitan pyratilla, ya famoso en este pueblo costero (evitar preguntar en el casino).\\n\"\n",
        "contact = contact.capitalize()\n",
        "\n",
        "print(title2 ,\"\\n\" + message3 ,\"\\n\" + contact ,\"\\n\")"
      ],
      "metadata": {
        "id": "5NDtGs-tdfXL",
        "colab": {
          "base_uri": "https://localhost:8080/"
        },
        "outputId": "db203144-2200-4f46-b900-9f889bc09db8"
      },
      "execution_count": 46,
      "outputs": [
        {
          "output_type": "stream",
          "name": "stdout",
          "text": [
            "SE BUSCA TRIPULANTE. \n",
            "Se busca puesto en la tripulación del capitán Pyratilla para llevar a cabo labores de marinero.Comida y bebida garantizada a lo largo de toda la aventura. \n",
            "Para mas informacion, ir al puerto y buscar al capitan pyratilla, ya famoso en este pueblo costero (evitar preguntar en el casino).\n",
            " \n",
            "\n"
          ]
        }
      ]
    },
    {
      "cell_type": "code",
      "source": [
        ""
      ],
      "metadata": {
        "id": "Gb2v-bMtlSRD"
      },
      "execution_count": null,
      "outputs": []
    }
  ]
}