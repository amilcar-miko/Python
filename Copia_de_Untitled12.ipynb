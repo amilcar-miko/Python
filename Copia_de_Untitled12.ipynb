{
  "nbformat": 4,
  "nbformat_minor": 0,
  "metadata": {
    "colab": {
      "name": "Copia de Untitled12.ipynb",
      "provenance": [],
      "collapsed_sections": [],
      "authorship_tag": "ABX9TyOdlzfXUdvZfWA0beAes83A",
      "include_colab_link": true
    },
    "kernelspec": {
      "name": "python3",
      "display_name": "Python 3"
    },
    "language_info": {
      "name": "python"
    }
  },
  "cells": [
    {
      "cell_type": "markdown",
      "metadata": {
        "id": "view-in-github",
        "colab_type": "text"
      },
      "source": [
        "<a href=\"https://colab.research.google.com/github/amilcar-miko/Python/blob/main/Copia_de_Untitled12.ipynb\" target=\"_parent\"><img src=\"https://colab.research.google.com/assets/colab-badge.svg\" alt=\"Open In Colab\"/></a>"
      ]
    },
    {
      "cell_type": "code",
      "execution_count": null,
      "metadata": {
        "colab": {
          "base_uri": "https://localhost:8080/"
        },
        "id": "bWp81YyKeppI",
        "outputId": "7db48166-6789-4f24-f8a8-d7921c5f17a9"
      },
      "outputs": [
        {
          "output_type": "stream",
          "name": "stdout",
          "text": [
            "este es el string original: el camino esta cerrado pero seguro que podemos encontrar una alternativa\n",
            "introduce la palabra que quieras eliminar del string original\n",
            "palabra: camino\n",
            "el esta cerrado pero seguro que podemos encontrar una alternativa\n"
          ]
        }
      ],
      "source": [
        "string = \"el camino esta cerrado pero seguro que podemos encontrar una alternativa\" \n",
        "print(\"este es el string original:\", end = \" \")\n",
        "print(string)\n",
        "\n",
        "print(\"introduce la palabra que quieras eliminar del string original\")\n",
        "word = input(\"palabra: \")\n",
        "\n",
        "idx = string.find(word)\n",
        "substring = string[:idx] + string[(idx + len(word) + 1):]\n",
        "print(substring)"
      ]
    }
  ]
}