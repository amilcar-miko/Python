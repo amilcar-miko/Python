{
  "nbformat": 4,
  "nbformat_minor": 0,
  "metadata": {
    "colab": {
      "name": "Copia de Untitled14.ipynb",
      "provenance": [],
      "authorship_tag": "ABX9TyPTOryNu3dc4r9Wy+58m+bd",
      "include_colab_link": true
    },
    "kernelspec": {
      "name": "python3",
      "display_name": "Python 3"
    },
    "language_info": {
      "name": "python"
    }
  },
  "cells": [
    {
      "cell_type": "markdown",
      "metadata": {
        "id": "view-in-github",
        "colab_type": "text"
      },
      "source": [
        "<a href=\"https://colab.research.google.com/github/amilcar-miko/Python/blob/main/Copia_de_Untitled14.ipynb\" target=\"_parent\"><img src=\"https://colab.research.google.com/assets/colab-badge.svg\" alt=\"Open In Colab\"/></a>"
      ]
    },
    {
      "cell_type": "code",
      "execution_count": null,
      "metadata": {
        "colab": {
          "base_uri": "https://localhost:8080/"
        },
        "id": "yF97O4yjrGhF",
        "outputId": "918df502-4e31-4197-89d1-6028d5e080bc"
      },
      "outputs": [
        {
          "output_type": "stream",
          "name": "stdout",
          "text": [
            "indique el destinatario de la cancion\n",
            "miko\n",
            "¡que los cumplas feliz!\n",
            "¡que los cumplas feliz!\n",
            "¡que los cumplas miko!,\n",
            "¡que los cumplas feliz!\n"
          ]
        }
      ],
      "source": [
        "string = \"indique el destinatario de la cancion\"\n",
        "print(string)\n",
        "name = input()\n",
        "\n",
        "s1 = \"¡que los cumplas feliz!\"\n",
        "s2 = \"¡que los cumplas feliz!\"\n",
        "\n",
        "song = (s1 + \"\\n\") * 2 + s2.replace(\"feliz\", name) + \",\\n\" + s1 \n",
        "print(song)"
      ]
    },
    {
      "cell_type": "code",
      "source": [
        "string = \"indique el destinatario de la cancion\"\n",
        "print(string)\n",
        "name = input()\n",
        "\n",
        "s1 = \"¡que los cumplas feliz!\"\n",
        "s2 = \"que los cumplas \"\n",
        "\n",
        "song = (s1 + \"\\n\") * 2 + s2 + name + \",\\n\" + s1 \n",
        "print(song)"
      ],
      "metadata": {
        "colab": {
          "base_uri": "https://localhost:8080/"
        },
        "id": "ehJCMqsetaBn",
        "outputId": "b97d82da-3b00-4070-b4e6-da30f761ea5a"
      },
      "execution_count": null,
      "outputs": [
        {
          "output_type": "stream",
          "name": "stdout",
          "text": [
            "indique el destinatario de la cancion\n",
            "miko\n",
            "¡que los cumplas feliz!\n",
            "¡que los cumplas feliz!\n",
            "que los cumplas miko,\n",
            "¡que los cumplas feliz!\n"
          ]
        }
      ]
    }
  ]
}