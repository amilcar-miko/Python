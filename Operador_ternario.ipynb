{
  "nbformat": 4,
  "nbformat_minor": 0,
  "metadata": {
    "colab": {
      "name": "Operador ternario.ipynb",
      "provenance": [],
      "authorship_tag": "ABX9TyP2ddrLiFW9KkskI/Pq31eA",
      "include_colab_link": true
    },
    "kernelspec": {
      "name": "python3",
      "display_name": "Python 3"
    },
    "language_info": {
      "name": "python"
    }
  },
  "cells": [
    {
      "cell_type": "markdown",
      "metadata": {
        "id": "view-in-github",
        "colab_type": "text"
      },
      "source": [
        "<a href=\"https://colab.research.google.com/github/amilcar-miko/Python/blob/main/Operador_ternario.ipynb\" target=\"_parent\"><img src=\"https://colab.research.google.com/assets/colab-badge.svg\" alt=\"Open In Colab\"/></a>"
      ]
    },
    {
      "cell_type": "code",
      "execution_count": 3,
      "metadata": {
        "id": "Xmnn_worbZGA",
        "colab": {
          "base_uri": "https://localhost:8080/"
        },
        "outputId": "651fa371-dd80-40df-a05a-9d564626f084"
      },
      "outputs": [
        {
          "output_type": "stream",
          "name": "stdout",
          "text": [
            "Eres mayor de edad.\n"
          ]
        }
      ],
      "source": [
        "age = 18\n",
        "\n",
        "texto_mayor = \"Eres mayor de edad.\"\n",
        "texto_menor = \"Eres menor de edad.\"\n",
        "\n",
        "print(texto_mayor) if age >= 18 else print(texto_menor)"
      ]
    },
    {
      "cell_type": "code",
      "source": [
        "age = 16\n",
        "\n",
        "texto_mayor = \"Eres mayor de edad.\"\n",
        "texto_menor = \"Eres menor de edad.\"\n",
        "\n",
        "print(texto_mayor) if age >= 18 else print(texto_menor)"
      ],
      "metadata": {
        "colab": {
          "base_uri": "https://localhost:8080/"
        },
        "id": "IatKtALofzHP",
        "outputId": "93ef4727-0162-4d0e-8b75-7fda81d405e4"
      },
      "execution_count": 4,
      "outputs": [
        {
          "output_type": "stream",
          "name": "stdout",
          "text": [
            "Eres menor de edad.\n"
          ]
        }
      ]
    },
    {
      "cell_type": "code",
      "source": [
        ""
      ],
      "metadata": {
        "id": "Vwry_8uRf2VM"
      },
      "execution_count": null,
      "outputs": []
    }
  ]
}