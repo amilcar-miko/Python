{
  "nbformat": 4,
  "nbformat_minor": 0,
  "metadata": {
    "colab": {
      "name": "Año bisiesto.ipynb",
      "provenance": [],
      "authorship_tag": "ABX9TyPMt9vuUqmsqgd1F9EK0XjX",
      "include_colab_link": true
    },
    "kernelspec": {
      "name": "python3",
      "display_name": "Python 3"
    },
    "language_info": {
      "name": "python"
    }
  },
  "cells": [
    {
      "cell_type": "markdown",
      "metadata": {
        "id": "view-in-github",
        "colab_type": "text"
      },
      "source": [
        "<a href=\"https://colab.research.google.com/github/amilcar-miko/Python/blob/main/A%C3%B1o_bisiesto.ipynb\" target=\"_parent\"><img src=\"https://colab.research.google.com/assets/colab-badge.svg\" alt=\"Open In Colab\"/></a>"
      ]
    },
    {
      "cell_type": "code",
      "execution_count": 10,
      "metadata": {
        "id": "C3LLMfl5Cz4T",
        "colab": {
          "base_uri": "https://localhost:8080/"
        },
        "outputId": "7a8d3674-3fc9-44eb-89eb-5d053024c320"
      },
      "outputs": [
        {
          "output_type": "stream",
          "name": "stdout",
          "text": [
            "Año: 2020\n",
            "El año 2020 es bisiesto\n"
          ]
        }
      ],
      "source": [
        "year = int(input(\"Año: \"))\n",
        "\n",
        "if year % 4 == 0:\n",
        "    if year % 100:\n",
        "        if year % 400:\n",
        "            print(\"El año {} es bisiesto\".format(year))\n",
        "        else: print(\"El año {} no es bisiesto \".format(year))\n",
        "\n",
        "    else: print(\"El año {} es bisiesto\".format(year))\n",
        "else: print(\"El año {} no es bisiesto \".format(year))"
      ]
    },
    {
      "cell_type": "code",
      "source": [
        "year = int(input(\"Año: \"))\n",
        "\n",
        "if year % 4 == 0:\n",
        "    if year % 100:\n",
        "        if year % 400:\n",
        "            print(\"El año {} es bisiesto\".format(year))\n",
        "        else: print(\"El año {} no es bisiesto \".format(year))\n",
        "\n",
        "    else: print(\"El año {} es bisiesto\".format(year))\n",
        "else: print(\"El año {} no es bisiesto \".format(year))"
      ],
      "metadata": {
        "colab": {
          "base_uri": "https://localhost:8080/"
        },
        "id": "qPdKAUaHtb-W",
        "outputId": "c5624903-8d8c-4e4e-a73b-626d19aa47e5"
      },
      "execution_count": 11,
      "outputs": [
        {
          "output_type": "stream",
          "name": "stdout",
          "text": [
            "Año: 2016\n",
            "El año 2016 es bisiesto\n"
          ]
        }
      ]
    },
    {
      "cell_type": "code",
      "source": [
        "year = int(input(\"Año: \"))\n",
        "\n",
        "if year % 4 == 0:\n",
        "    if year % 100:\n",
        "        if year % 400:\n",
        "            print(\"El año {} es bisiesto\".format(year))\n",
        "        else: print(\"El año {} no es bisiesto \".format(year))\n",
        "\n",
        "    else: print(\"El año {} es bisiesto\".format(year))\n",
        "else: print(\"El año {} no es bisiesto \".format(year))"
      ],
      "metadata": {
        "colab": {
          "base_uri": "https://localhost:8080/"
        },
        "id": "KIAhcNw6tf5K",
        "outputId": "f732ae38-4be6-4210-c579-4ad276a01cf5"
      },
      "execution_count": 12,
      "outputs": [
        {
          "output_type": "stream",
          "name": "stdout",
          "text": [
            "Año: 1\n",
            "El año 1 no es bisiesto \n"
          ]
        }
      ]
    },
    {
      "cell_type": "code",
      "source": [
        "year = int(input(\"Año: \"))\n",
        "\n",
        "if year % 4 == 0:\n",
        "    if year % 100:\n",
        "        if year % 400:\n",
        "            print(\"El año {} es bisiesto\".format(year))\n",
        "        else: print(\"El año {} no es bisiesto \".format(year))\n",
        "\n",
        "    else: print(\"El año {} es bisiesto\".format(year))\n",
        "else: print(\"El año {} no es bisiesto \".format(year))"
      ],
      "metadata": {
        "colab": {
          "base_uri": "https://localhost:8080/"
        },
        "id": "A622WNeytlqM",
        "outputId": "fc087679-7621-44a5-cd93-e215a37da7a5"
      },
      "execution_count": 13,
      "outputs": [
        {
          "output_type": "stream",
          "name": "stdout",
          "text": [
            "Año: 3450786\n",
            "El año 3450786 no es bisiesto \n"
          ]
        }
      ]
    },
    {
      "cell_type": "code",
      "source": [
        "year = int(input(\"Año: \"))\n",
        "\n",
        "if year % 4 == 0:\n",
        "    if year % 100:\n",
        "        if year % 400:\n",
        "            print(\"El año {} es bisiesto\".format(year))\n",
        "        else: print(\"El año {} no es bisiesto \".format(year))\n",
        "\n",
        "    else: print(\"El año {} es bisiesto\".format(year))\n",
        "else: print(\"El año {} no es bisiesto \".format(year))"
      ],
      "metadata": {
        "colab": {
          "base_uri": "https://localhost:8080/"
        },
        "id": "ZOM8sCZ9t05O",
        "outputId": "f6868e57-1f54-4ee8-f24f-2381135bffa5"
      },
      "execution_count": 14,
      "outputs": [
        {
          "output_type": "stream",
          "name": "stdout",
          "text": [
            "Año: 4\n",
            "El año 4 es bisiesto\n"
          ]
        }
      ]
    },
    {
      "cell_type": "code",
      "source": [
        "year = int(input(\"Año: \"))\n",
        "\n",
        "if year % 4 == 0:\n",
        "    if year % 100:\n",
        "        if year % 400:\n",
        "            print(\"El año {} es bisiesto\".format(year))\n",
        "        else: print(\"El año {} no es bisiesto \".format(year))\n",
        "\n",
        "    else: print(\"El año {} es bisiesto\".format(year))\n",
        "else: print(\"El año {} no es bisiesto \".format(year))"
      ],
      "metadata": {
        "colab": {
          "base_uri": "https://localhost:8080/"
        },
        "id": "kLWApC8xt5DF",
        "outputId": "cab84696-79ba-4b0e-fcd7-bb417e449778"
      },
      "execution_count": 15,
      "outputs": [
        {
          "output_type": "stream",
          "name": "stdout",
          "text": [
            "Año: 6\n",
            "El año 6 no es bisiesto \n"
          ]
        }
      ]
    }
  ]
}