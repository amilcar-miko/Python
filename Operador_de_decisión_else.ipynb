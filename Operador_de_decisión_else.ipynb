{
  "nbformat": 4,
  "nbformat_minor": 0,
  "metadata": {
    "colab": {
      "name": "Operador de decisión else.ipynb",
      "provenance": [],
      "authorship_tag": "ABX9TyO2zdv4Ip2GupxmnBoJd5EB",
      "include_colab_link": true
    },
    "kernelspec": {
      "name": "python3",
      "display_name": "Python 3"
    },
    "language_info": {
      "name": "python"
    }
  },
  "cells": [
    {
      "cell_type": "markdown",
      "metadata": {
        "id": "view-in-github",
        "colab_type": "text"
      },
      "source": [
        "<a href=\"https://colab.research.google.com/github/amilcar-miko/Python/blob/main/Operador_de_decisi%C3%B3n_else.ipynb\" target=\"_parent\"><img src=\"https://colab.research.google.com/assets/colab-badge.svg\" alt=\"Open In Colab\"/></a>"
      ]
    },
    {
      "cell_type": "code",
      "execution_count": 2,
      "metadata": {
        "colab": {
          "base_uri": "https://localhost:8080/"
        },
        "id": "U0HLyjVDhelG",
        "outputId": "54da8cb0-3b5d-4a7c-ebdb-18ccdf1904f1"
      },
      "outputs": [
        {
          "output_type": "stream",
          "name": "stdout",
          "text": [
            "Puede trabajar como programador\n"
          ]
        }
      ],
      "source": [
        "age = 30\n",
        "if (age >= 18 and age <= 65):\n",
        "    print(\"Puede trabajar como programador\")\n",
        "else:\n",
        "    print(\"No satisface la edad necesaria para trabajar como programador\")"
      ]
    },
    {
      "cell_type": "code",
      "source": [
        "age = 17\n",
        "if (age >= 18 and age <= 65):\n",
        "    print(\"Puede trabajar como programador\")\n",
        "else:\n",
        "    print(\"No satisface la edad necesaria para trabajar como programador\")\n"
      ],
      "metadata": {
        "colab": {
          "base_uri": "https://localhost:8080/"
        },
        "id": "etOZe8w4kTCH",
        "outputId": "f8aee1ee-18f5-48c4-a74c-b0e8273fa1e4"
      },
      "execution_count": 3,
      "outputs": [
        {
          "output_type": "stream",
          "name": "stdout",
          "text": [
            "No satisface la edad necesaria para trabajar como programador\n"
          ]
        }
      ]
    },
    {
      "cell_type": "code",
      "source": [
        "age = 70\n",
        "if (age >= 18 and age <= 65):\n",
        "    print(\"Puede trabajar como programador\")\n",
        "else:\n",
        "    print(\"No satisface la edad necesaria para trabajar como programador\")"
      ],
      "metadata": {
        "colab": {
          "base_uri": "https://localhost:8080/"
        },
        "id": "QaCTGPCHka0F",
        "outputId": "9dd71ed5-6354-462f-e854-5dfe8dd7f6e3"
      },
      "execution_count": 4,
      "outputs": [
        {
          "output_type": "stream",
          "name": "stdout",
          "text": [
            "No satisface la edad necesaria para trabajar como programador\n"
          ]
        }
      ]
    }
  ]
}