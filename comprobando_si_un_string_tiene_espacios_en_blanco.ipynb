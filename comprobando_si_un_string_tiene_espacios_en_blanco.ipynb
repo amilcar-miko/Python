{
  "nbformat": 4,
  "nbformat_minor": 0,
  "metadata": {
    "colab": {
      "name": "comprobando si un string tiene espacios en blanco.ipynb",
      "provenance": [],
      "authorship_tag": "ABX9TyPY8JrU1UtTzJacPMs6FQXc",
      "include_colab_link": true
    },
    "kernelspec": {
      "name": "python3",
      "display_name": "Python 3"
    },
    "language_info": {
      "name": "python"
    }
  },
  "cells": [
    {
      "cell_type": "markdown",
      "metadata": {
        "id": "view-in-github",
        "colab_type": "text"
      },
      "source": [
        "<a href=\"https://colab.research.google.com/github/amilcar-miko/Python/blob/main/comprobando_si_un_string_tiene_espacios_en_blanco.ipynb\" target=\"_parent\"><img src=\"https://colab.research.google.com/assets/colab-badge.svg\" alt=\"Open In Colab\"/></a>"
      ]
    },
    {
      "cell_type": "code",
      "execution_count": 2,
      "metadata": {
        "colab": {
          "base_uri": "https://localhost:8080/"
        },
        "id": "3RN4XvTvTYOj",
        "outputId": "8d33b45c-3132-4633-e0fb-6cbc949d4981"
      },
      "outputs": [
        {
          "output_type": "stream",
          "name": "stdout",
          "text": [
            "el string tiene 3 espacios en blanco\n"
          ]
        }
      ],
      "source": [
        "s = \"mi gato duerme mucho\"\n",
        "c = \" \"\n",
        "if c in s:\n",
        "    print(\"el string tiene {} espacios en blanco\".format(s.count(c)))"
      ]
    }
  ]
}