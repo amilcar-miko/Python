{
  "nbformat": 4,
  "nbformat_minor": 0,
  "metadata": {
    "colab": {
      "name": "Ecuaciones de primer grado.ipynb",
      "provenance": [],
      "authorship_tag": "ABX9TyP0XkhSSiQC0diil7qtAQdd",
      "include_colab_link": true
    },
    "kernelspec": {
      "name": "python3",
      "display_name": "Python 3"
    },
    "language_info": {
      "name": "python"
    }
  },
  "cells": [
    {
      "cell_type": "markdown",
      "metadata": {
        "id": "view-in-github",
        "colab_type": "text"
      },
      "source": [
        "<a href=\"https://colab.research.google.com/github/amilcar-miko/Python/blob/main/Ecuaciones_de_primer_grado.ipynb\" target=\"_parent\"><img src=\"https://colab.research.google.com/assets/colab-badge.svg\" alt=\"Open In Colab\"/></a>"
      ]
    },
    {
      "cell_type": "code",
      "execution_count": 1,
      "metadata": {
        "colab": {
          "base_uri": "https://localhost:8080/"
        },
        "id": "q4rUeOtFkwYK",
        "outputId": "16a880f8-6dbd-4389-ea91-e01d2aa3af1e"
      },
      "outputs": [
        {
          "output_type": "stream",
          "name": "stdout",
          "text": [
            "coeficiente A = 2\n",
            "coeficiente B = 2\n",
            "la solución es x= -1.0\n"
          ]
        }
      ],
      "source": [
        "# Ax + B = 0\n",
        "A = float(input(\"coeficiente A = \"))\n",
        "B = float(input(\"coeficiente B = \"))\n",
        "if A != 0:\n",
        "    sol = -B / A\n",
        "    print(\"la solución es x=\", sol)\n",
        "else:\n",
        "    print(\"no hay ecuación que resolver, porque A es = 0\")\n"
      ]
    },
    {
      "cell_type": "code",
      "source": [
        "# Ax + B = 0\n",
        "A = float(input(\"coeficiente A = \"))\n",
        "B = float(input(\"coeficiente B = \"))\n",
        "if A != 0:\n",
        "    sol = -B / A\n",
        "    print(\"la solución es x=\", sol)\n",
        "else:\n",
        "    print(\"no hay ecuación que resolver, porque A es = 0\")\n"
      ],
      "metadata": {
        "colab": {
          "base_uri": "https://localhost:8080/"
        },
        "id": "V-ztWU3gpIPx",
        "outputId": "33604339-aa2e-4817-bc78-b96a0ba26104"
      },
      "execution_count": 2,
      "outputs": [
        {
          "output_type": "stream",
          "name": "stdout",
          "text": [
            "coeficiente A = 0\n",
            "coeficiente B = 2\n",
            "no hay ecuación que resolver, porque A es = 0\n"
          ]
        }
      ]
    }
  ]
}