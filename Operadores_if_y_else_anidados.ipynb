{
  "nbformat": 4,
  "nbformat_minor": 0,
  "metadata": {
    "colab": {
      "name": "Operadores if y else anidados.ipynb",
      "provenance": [],
      "authorship_tag": "ABX9TyOPbRmQIbxPeVgXOaOx7V87",
      "include_colab_link": true
    },
    "kernelspec": {
      "name": "python3",
      "display_name": "Python 3"
    },
    "language_info": {
      "name": "python"
    }
  },
  "cells": [
    {
      "cell_type": "markdown",
      "metadata": {
        "id": "view-in-github",
        "colab_type": "text"
      },
      "source": [
        "<a href=\"https://colab.research.google.com/github/amilcar-miko/Python/blob/main/Operadores_if_y_else_anidados.ipynb\" target=\"_parent\"><img src=\"https://colab.research.google.com/assets/colab-badge.svg\" alt=\"Open In Colab\"/></a>"
      ]
    },
    {
      "cell_type": "code",
      "execution_count": 18,
      "metadata": {
        "colab": {
          "base_uri": "https://localhost:8080/"
        },
        "id": "oCj1f9IY_q8Q",
        "outputId": "08936b42-71c6-47c5-a591-ebf084405e4b"
      },
      "outputs": [
        {
          "output_type": "stream",
          "name": "stdout",
          "text": [
            "Eres mayor de edad pues tienes 30 años y tu nombre, que es Amilcar, empieza por A\n"
          ]
        }
      ],
      "source": [
        "age = 30\n",
        "name = \"Amilcar\"\n",
        "if age >= 18:\n",
        "  if name.startswith(\"A\") or name.startswith(\"a\"):\n",
        "    print(\"Eres mayor de edad pues tienes {} años y tu nombre, que es {}, empieza por A\".format(age, name))\n",
        "  else:\n",
        "    print(\"Eres mayor de edad pues tienes {} años\".format(age))\n",
        "else:\n",
        "    print(\"Eres muy joven\")"
      ]
    },
    {
      "cell_type": "code",
      "source": [
        "age = 30\n",
        "name = \"Leonel\"\n",
        "if age >= 18:\n",
        "  if name.startswith(\"A\") or name.startswith(\"a\"):\n",
        "    print(\"Eres mayor de edad pues tienes {} años y tu nombre, que es {}, empieza por A\".format(age, name))\n",
        "  else:\n",
        "    print(\"Eres mayor de edad pues tienes {} años\".format(age))\n",
        "else:\n",
        "    print(\"Eres muy joven\")"
      ],
      "metadata": {
        "colab": {
          "base_uri": "https://localhost:8080/"
        },
        "id": "D6uboSucAWoW",
        "outputId": "1ae17c24-ff8d-4355-d694-ed991c28a101"
      },
      "execution_count": 7,
      "outputs": [
        {
          "output_type": "stream",
          "name": "stdout",
          "text": [
            "Eres mayor de edad pues tienes 30 años\n"
          ]
        }
      ]
    },
    {
      "cell_type": "code",
      "source": [
        "age = 17\n",
        "name = \"Amilcar\"\n",
        "if age >= 18:\n",
        "  if name.startswith(\"A\") or name.startswith(\"a\"):\n",
        "    print(\"Eres mayor de edad pues tienes {} años y tu nombre, que es {}, empieza por A\".format(age, name))\n",
        "  else:\n",
        "    print(\"Eres mayor de edad pues tienes {} años\".format(age))\n",
        "else:\n",
        "    print(\"Eres muy joven\")"
      ],
      "metadata": {
        "colab": {
          "base_uri": "https://localhost:8080/"
        },
        "id": "lhVLT0YcAbZl",
        "outputId": "d7e8a6d8-3daf-444a-d191-91d890384612"
      },
      "execution_count": 8,
      "outputs": [
        {
          "output_type": "stream",
          "name": "stdout",
          "text": [
            "Eres muy joven\n"
          ]
        }
      ]
    }
  ]
}