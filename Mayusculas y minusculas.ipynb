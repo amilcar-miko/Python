{
  "nbformat": 4,
  "nbformat_minor": 0,
  "metadata": {
    "colab": {
      "name": "Untitled15.ipynb",
      "provenance": [],
      "authorship_tag": "ABX9TyPYKqukxeUopXw027G1AmlA",
      "include_colab_link": true
    },
    "kernelspec": {
      "name": "python3",
      "display_name": "Python 3"
    },
    "language_info": {
      "name": "python"
    }
  },
  "cells": [
    {
      "cell_type": "markdown",
      "metadata": {
        "id": "view-in-github",
        "colab_type": "text"
      },
      "source": [
        "<a href=\"https://colab.research.google.com/github/amilcar-miko/Python/blob/main/Mayusculas%20y%20minusculas.ipynb\" target=\"_parent\"><img src=\"https://colab.research.google.com/assets/colab-badge.svg\" alt=\"Open In Colab\"/></a>"
      ]
    },
    {
      "cell_type": "code",
      "execution_count": null,
      "metadata": {
        "colab": {
          "base_uri": "https://localhost:8080/"
        },
        "id": "HoxtbLg7Rbij",
        "outputId": "4f68f469-b6b9-4d88-dde9-5577cb438e93"
      },
      "outputs": [
        {
          "output_type": "stream",
          "name": "stdout",
          "text": [
            "introduce una palabra y yo te la devuelvo en mayuscula\n",
            "perro\n",
            "PERRO\n"
          ]
        }
      ],
      "source": [
        "print(\"introduce una palabra y yo te la devuelvo en mayuscula\")\n",
        "word = input()\n",
        "print(word.upper())"
      ]
    },
    {
      "cell_type": "code",
      "source": [
        "print(\"introduce una frase y yo te devuelvo todas las palabras empezando en mayuscula\")\n",
        "s = input()\n",
        "print(s.title())"
      ],
      "metadata": {
        "colab": {
          "base_uri": "https://localhost:8080/"
        },
        "id": "gq9_WOz4SUdp",
        "outputId": "76c99e8d-3bad-49c2-ad28-a8b1845055bc"
      },
      "execution_count": null,
      "outputs": [
        {
          "output_type": "stream",
          "name": "stdout",
          "text": [
            "introduce una frase y yo te devuelvo todas las palabras empezando en mayuscula\n",
            "un dia vi a un perro vestido con una camiseta de futbol\n",
            "Un Dia Vi A Un Perro Vestido Con Una Camiseta De Futbol\n"
          ]
        }
      ]
    },
    {
      "cell_type": "code",
      "source": [
        "print(\"introduce una palabra con 3 letras o mas y yo te devuelvo todas sus letras en minuscula salvo la tercera\")\n",
        "word = input()\n",
        "word = word[:2].lower() + word[2].upper() + word[3:].lower()\n",
        "print(word)"
      ],
      "metadata": {
        "colab": {
          "base_uri": "https://localhost:8080/"
        },
        "id": "20EcTtcmTB0V",
        "outputId": "dee33509-5be9-4504-9e9b-80a62b1418cf"
      },
      "execution_count": null,
      "outputs": [
        {
          "output_type": "stream",
          "name": "stdout",
          "text": [
            "introduce una palabra con 3 letras o mas y yo te devuelvo todas sus letras en minuscula salvo la tercera\n",
            "perro\n",
            "peRro\n"
          ]
        }
      ]
    },
    {
      "cell_type": "code",
      "source": [
        "print(\"introduce una palabra y yo te devuelvo todas sus letras en mayuscula salvo la primera y la ultima\")\n",
        "word = input()\n",
        "word = word[0].lower() + word[1:len(word) - 1].upper() + word[-1].lower()\n",
        "print(word)"
      ],
      "metadata": {
        "colab": {
          "base_uri": "https://localhost:8080/"
        },
        "id": "DjRJFu6WWgEO",
        "outputId": "c04e252d-9824-42ef-a8a5-1ac3322f7e2a"
      },
      "execution_count": null,
      "outputs": [
        {
          "output_type": "stream",
          "name": "stdout",
          "text": [
            "introduce una palabra y yo te devuelvo todas sus letras en mayuscula salvo la primera y la ultima\n",
            "perro\n",
            "pERRo\n"
          ]
        }
      ]
    },
    {
      "cell_type": "code",
      "source": [
        "subs = \"pi\"\n",
        "print(\"introduce una frase y yo te la devuelvo sustituyendo las dos primeras letras de la primera palabra por las letras {}\".format(subs))\n",
        "s = input()\n",
        "print(s.replace(s[:2], subs))"
      ],
      "metadata": {
        "colab": {
          "base_uri": "https://localhost:8080/"
        },
        "id": "Z45K3ybYYHlD",
        "outputId": "f2e7b826-10d2-46cc-c2bc-33d81ce54c71"
      },
      "execution_count": null,
      "outputs": [
        {
          "output_type": "stream",
          "name": "stdout",
          "text": [
            "introduce una frase y yo te la devuelvo sustituyendo las dos primeras letras de la primera palabra por las letras pi\n",
            "mi perro a mi me espera para salir a pasear\n",
            "pi perro a pi me espera para salir a pasear\n"
          ]
        }
      ]
    }
  ]
}