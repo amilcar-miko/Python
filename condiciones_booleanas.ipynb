{
  "nbformat": 4,
  "nbformat_minor": 0,
  "metadata": {
    "colab": {
      "name": "condiciones booleanas.ipynb",
      "provenance": [],
      "authorship_tag": "ABX9TyP4wJu+3X/d2pbYxdQvOE6i",
      "include_colab_link": true
    },
    "kernelspec": {
      "name": "python3",
      "display_name": "Python 3"
    },
    "language_info": {
      "name": "python"
    }
  },
  "cells": [
    {
      "cell_type": "markdown",
      "metadata": {
        "id": "view-in-github",
        "colab_type": "text"
      },
      "source": [
        "<a href=\"https://colab.research.google.com/github/amilcar-miko/Python/blob/main/condiciones_booleanas.ipynb\" target=\"_parent\"><img src=\"https://colab.research.google.com/assets/colab-badge.svg\" alt=\"Open In Colab\"/></a>"
      ]
    },
    {
      "cell_type": "code",
      "execution_count": 5,
      "metadata": {
        "colab": {
          "base_uri": "https://localhost:8080/"
        },
        "id": "NZvw_suNVWbM",
        "outputId": "5ba911df-56c1-4a0b-8b2a-a07ed32e61bd"
      },
      "outputs": [
        {
          "output_type": "execute_result",
          "data": {
            "text/plain": [
              "True"
            ]
          },
          "metadata": {},
          "execution_count": 5
        }
      ],
      "source": [
        "#Requisito de 18 años o más, pero menos de 40 para poder concertar una entrevista y aspirar a ser contratado\n",
        "edad = 18\n",
        "(edad >= 18) and (edad <= 40)"
      ]
    },
    {
      "cell_type": "code",
      "source": [
        "#Requisito de 18 años o más, pero menos de 40 para poder concertar una entrevista y aspirar a ser contratado\n",
        "edad = 70\n",
        "(edad >= 18) and (edad <= 40)"
      ],
      "metadata": {
        "colab": {
          "base_uri": "https://localhost:8080/"
        },
        "id": "UTbB1rNvXLic",
        "outputId": "5e76a9d2-f7d8-40a5-f15e-8fb29eaa07df"
      },
      "execution_count": 6,
      "outputs": [
        {
          "output_type": "execute_result",
          "data": {
            "text/plain": [
              "False"
            ]
          },
          "metadata": {},
          "execution_count": 6
        }
      ]
    },
    {
      "cell_type": "code",
      "source": [
        "#Requisito de 18 años o más, pero menos de 40 para poder concertar una entrevista y aspirar a ser contratado\n",
        "edad = 15\n",
        "(edad >= 18) and (edad <= 40)"
      ],
      "metadata": {
        "colab": {
          "base_uri": "https://localhost:8080/"
        },
        "id": "Q_lwxp3dXLXe",
        "outputId": "fe9ef340-ebfa-47ac-8f1f-51c850a74a34"
      },
      "execution_count": 7,
      "outputs": [
        {
          "output_type": "execute_result",
          "data": {
            "text/plain": [
              "False"
            ]
          },
          "metadata": {},
          "execution_count": 7
        }
      ]
    }
  ]
}