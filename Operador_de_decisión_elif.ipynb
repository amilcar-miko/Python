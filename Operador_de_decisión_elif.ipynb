{
  "nbformat": 4,
  "nbformat_minor": 0,
  "metadata": {
    "colab": {
      "name": "Operador de decisión elif.ipynb",
      "provenance": [],
      "authorship_tag": "ABX9TyP3u7ytzO3M4G7NjWiZfCz7",
      "include_colab_link": true
    },
    "kernelspec": {
      "name": "python3",
      "display_name": "Python 3"
    },
    "language_info": {
      "name": "python"
    }
  },
  "cells": [
    {
      "cell_type": "markdown",
      "metadata": {
        "id": "view-in-github",
        "colab_type": "text"
      },
      "source": [
        "<a href=\"https://colab.research.google.com/github/amilcar-miko/Python/blob/main/Operador_de_decisi%C3%B3n_elif.ipynb\" target=\"_parent\"><img src=\"https://colab.research.google.com/assets/colab-badge.svg\" alt=\"Open In Colab\"/></a>"
      ]
    },
    {
      "cell_type": "code",
      "execution_count": 4,
      "metadata": {
        "colab": {
          "base_uri": "https://localhost:8080/"
        },
        "id": "t5S8b05ZYrdz",
        "outputId": "207505d7-95b6-4891-d79a-62229dfed171"
      },
      "outputs": [
        {
          "output_type": "stream",
          "name": "stdout",
          "text": [
            "Podras obtar si trabajar para una empresa. Aún te queda superar la entrevista con recursos humanos.\n"
          ]
        }
      ],
      "source": [
        "age = 18\n",
        "\n",
        "if age > 65:\n",
        "    print(\"No puedes trabajar en el ambito de la programacion para una empresa.\")\n",
        "elif age >= 18:\n",
        "    print(\"Podras obtar si trabajar para una empresa. Aún te queda superar la entrevista con recursos humanos.\")\n",
        "else:\n",
        "    print(\"Eres muy pequeño para trabajar en una empresa.\")"
      ]
    },
    {
      "cell_type": "code",
      "source": [
        "age = 16\n",
        "\n",
        "if age > 65:\n",
        "    print(\"No puedes trabajar en el ambito de la programacion para una empresa.\")\n",
        "elif age >= 18:\n",
        "    print(\"Podras obtar si trabajar para una empresa. Aún te queda superar la entrevista con recursos humanos.\")\n",
        "else:\n",
        "    print(\"Eres muy pequeño para trabajar en una empresa.\")"
      ],
      "metadata": {
        "colab": {
          "base_uri": "https://localhost:8080/"
        },
        "id": "5JRfJ9siatyP",
        "outputId": "0f2c80a2-c26c-4965-b70a-adba58d726f3"
      },
      "execution_count": 3,
      "outputs": [
        {
          "output_type": "stream",
          "name": "stdout",
          "text": [
            "Eres muy pequeño para trabajar en una empresa\n"
          ]
        }
      ]
    },
    {
      "cell_type": "code",
      "source": [
        "age = 66\n",
        "\n",
        "if age > 65:\n",
        "    print(\"No puedes trabajar en el ambito de la programacion para una empresa.\")\n",
        "elif age >= 18:\n",
        "    print(\"Podras obtar si trabajar para una empresa. Aún te queda superar la entrevista con recursos humanos.\")\n",
        "else:\n",
        "    print(\"Eres muy pequeño para trabajar en una empresa\")"
      ],
      "metadata": {
        "colab": {
          "base_uri": "https://localhost:8080/"
        },
        "id": "QpS3Ineear1q",
        "outputId": "7848bb1a-91e7-425f-d747-730d1e3200ff"
      },
      "execution_count": 5,
      "outputs": [
        {
          "output_type": "stream",
          "name": "stdout",
          "text": [
            "No puedes trabajar en el ambito de la programacion para una empresa.\n"
          ]
        }
      ]
    }
  ]
}